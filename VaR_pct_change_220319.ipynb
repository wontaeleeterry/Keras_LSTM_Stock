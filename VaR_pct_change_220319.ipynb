{
 "cells": [
  {
   "cell_type": "markdown",
   "metadata": {},
   "source": [
    "VoR (Value of Risk)"
   ]
  },
  {
   "cell_type": "markdown",
   "metadata": {},
   "source": [
    "손실이 특정 수준을 초과하지 않을 것임을 나타내는 임계 값"
   ]
  },
  {
   "cell_type": "markdown",
   "metadata": {},
   "source": [
    "예) VoR(95) = -3.5%"
   ]
  },
  {
   "cell_type": "markdown",
   "metadata": {},
   "source": [
    "투자 손실이 과거 값을 기반으로 주어진 날짜에 95%의 확률로 -3.5%를 초과하지 않음을 의미"
   ]
  },
  {
   "cell_type": "code",
   "execution_count": 1,
   "metadata": {},
   "outputs": [],
   "source": [
    "# 데이터 프레임에서 수익률 계산 : pct_change()\n",
    "\n",
    "import pandas as pd\n",
    "import pandas_datareader as pdr\n",
    "import numpy as np\n",
    "\n",
    "\n",
    "# sm_df = pdr.get_data_yahoo('036570.KS', start = '2020-01-01')     # 엔씨소프트\n",
    "# sm_df = pdr.get_data_yahoo('005930.KS', start = '2020-01-01')     # 삼성전자\n",
    "# sm_df = pdr.get_data_yahoo('008770.KS', start = '2020-01-01')     # 호텔신라\n",
    "# sm_df = pdr.get_data_yahoo('011210.KS', start = '2020-01-01')     # 현대위아\n",
    "\n",
    "# sm_df = pdr.get_data_yahoo('TSLA', start = '2020-01-01')     # Tesla\n",
    "sm_df = pdr.get_data_yahoo('AMZN', start = '2020-01-01')     # Amazon\n",
    "\n",
    "\n",
    "# sm_df.head()"
   ]
  },
  {
   "cell_type": "code",
   "execution_count": 2,
   "metadata": {},
   "outputs": [],
   "source": [
    "daily_close_pct_change = sm_df['Adj Close'].pct_change()\n",
    "# daily_close_pct_change.head()"
   ]
  },
  {
   "cell_type": "code",
   "execution_count": 3,
   "metadata": {},
   "outputs": [],
   "source": [
    "# ascending : 오름차순 (True), 내림차순 (False)\n",
    "# inplace : 데이터프레임에 저장 (True)\n",
    "\n",
    "daily_close_pct_change.sort_values(inplace=True, ascending=True)\n",
    "# daily_close_pct_change.head()"
   ]
  },
  {
   "cell_type": "code",
   "execution_count": 4,
   "metadata": {},
   "outputs": [],
   "source": [
    "# quantile() : 오름차순 정렬했을 때 0을 최소값, 100을 최대값으로 백분율로 나타낸 특정 위치 값\n",
    "\n",
    "VoR_51 = daily_close_pct_change.quantile(0.49)\n",
    "VoR_60 = daily_close_pct_change.quantile(0.4)\n",
    "VoR_90 = daily_close_pct_change.quantile(0.1)\n",
    "VoR_95 = daily_close_pct_change.quantile(0.05)\n",
    "VoR_99 = daily_close_pct_change.quantile(0.01) "
   ]
  },
  {
   "cell_type": "code",
   "execution_count": 5,
   "metadata": {},
   "outputs": [
    {
     "name": "stdout",
     "output_type": "stream",
     "text": [
      "VoR 51% : 0.0006\n",
      "VoR 60% : -0.0028\n",
      "VoR 90% : -0.0230\n",
      "VoR 95% : -0.0301\n",
      "VoR 99% : -0.0552\n"
     ]
    }
   ],
   "source": [
    "# VoR : 손실이 특정 수준을 초과하지 않을 것임을 나타내는 임계 값\n",
    "\n",
    "print(\"VoR 51% : {:.4f}\" .format(VoR_51))\n",
    "print(\"VoR 60% : {:.4f}\" .format(VoR_60))\n",
    "print(\"VoR 90% : {:.4f}\" .format(VoR_90))\n",
    "print(\"VoR 95% : {:.4f}\" .format(VoR_95))\n",
    "print(\"VoR 99% : {:.4f}\" .format(VoR_99))"
   ]
  },
  {
   "cell_type": "code",
   "execution_count": 6,
   "metadata": {},
   "outputs": [],
   "source": [
    "# 삼성전자 : 51% = 0.0000 / 99% = -0.0411\n",
    "# 엔씨소프 : 51% = -0.0011 / 99% = -0.0742\n",
    "# 호텔신라 : 51% = -0.0011 / 99% = -0.0720\n",
    "# 현대위아 : 51% = -0.0024 / 99% = -0.0870"
   ]
  },
  {
   "cell_type": "code",
   "execution_count": null,
   "metadata": {},
   "outputs": [],
   "source": []
  }
 ],
 "metadata": {
  "kernelspec": {
   "display_name": "tfmac24_mini38",
   "language": "python",
   "name": "tfmac24_mini38"
  },
  "language_info": {
   "codemirror_mode": {
    "name": "ipython",
    "version": 3
   },
   "file_extension": ".py",
   "mimetype": "text/x-python",
   "name": "python",
   "nbconvert_exporter": "python",
   "pygments_lexer": "ipython3",
   "version": "3.8.6"
  }
 },
 "nbformat": 4,
 "nbformat_minor": 4
}
